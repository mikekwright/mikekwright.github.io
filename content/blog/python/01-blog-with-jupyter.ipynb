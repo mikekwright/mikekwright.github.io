{
 "cells": [
  {
   "cell_type": "markdown",
   "metadata": {},
   "source": [
    "It has been a while since I have been into blogging.  For a little bit I thought I would like to\n",
    "migrate over to using medium.com.  However I personally like the feel of having nicely embedded \n",
    "content with more options then was available with medium.  \n",
    "\n",
    "Originally my blog was a static site that was setup using jekyll, however I found that it would\n",
    "(at times) cause me more headache than I was hoping for, and a couple of years ago I had \n",
    "thought about migrating the system to use a new backend.  One of those was pelican, but I \n",
    "quickly dismissed the thought as I knew that I didn't really want to just migrate from one \n",
    "specific tool to another.  \n",
    "\n",
    "Recently, however, I have started to work more in the field of data science and have come to \n",
    "enjoy working in (and with) jupyter.  To this end I have decided to setup my static site using\n",
    "pelican where I can write (the majority) of the blog post entries with jupyter.   \n",
    "\n",
    "So this is my first blog entry in which I was able to get pelican as the static-site generator\n",
    "that would in turn allow me to create the actual blog entries using `Jupyter`.  \n",
    "\n",
    "## Sample\n",
    "\n",
    "So here are a couple of samples of running different code for this python3 notebook:   "
   ]
  },
  {
   "cell_type": "code",
   "execution_count": 1,
   "metadata": {
    "collapsed": false
   },
   "outputs": [
    {
     "data": {
      "text/plain": [
       "7"
      ]
     },
     "execution_count": 1,
     "metadata": {},
     "output_type": "execute_result"
    }
   ],
   "source": [
    "3 + 4"
   ]
  },
  {
   "cell_type": "markdown",
   "metadata": {},
   "source": [
    "There are other examples that you can do as well, however I hope that this will be something\n",
    "that I can demonstrate later with other languages and/or practices.   \n"
   ]
  },
  {
   "cell_type": "markdown",
   "metadata": {},
   "source": [
    "## Conclussion\n",
    "\n",
    "I'm pretty exicted to see how this blog entry will turn out and have high hopes for this \n",
    "being the mechanism that will help me to move forward with more blog entries (on a weekly\n",
    "to bi-weekly basis).      "
   ]
  }
 ],
 "metadata": {
  "kernelspec": {
   "display_name": "Python 3",
   "language": "python",
   "name": "python3"
  },
  "language_info": {
   "codemirror_mode": {
    "name": "ipython",
    "version": 3
   },
   "file_extension": ".py",
   "mimetype": "text/x-python",
   "name": "python",
   "nbconvert_exporter": "python",
   "pygments_lexer": "ipython3",
   "version": "3.5.2"
  }
 },
 "nbformat": 4,
 "nbformat_minor": 1
}
